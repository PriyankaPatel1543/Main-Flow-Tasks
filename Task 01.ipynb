{
 "cells": [
  {
   "cell_type": "markdown",
   "id": "5c98d8b4",
   "metadata": {},
   "source": [
    "# List\n",
    "## Create a List\n"
   ]
  },
  {
   "cell_type": "code",
   "execution_count": 1,
   "id": "642c3c26",
   "metadata": {},
   "outputs": [
    {
     "name": "stdout",
     "output_type": "stream",
     "text": [
      "[1, 0.2, 'Ram', True]\n"
     ]
    }
   ],
   "source": [
    "list1=[1,0.2,\"Ram\",True]\n",
    "print(list1)"
   ]
  },
  {
   "cell_type": "markdown",
   "id": "7602d9fd",
   "metadata": {},
   "source": [
    "## Adding the items"
   ]
  },
  {
   "cell_type": "code",
   "execution_count": 2,
   "id": "05c50602",
   "metadata": {},
   "outputs": [
    {
     "data": {
      "text/plain": [
       "[1, 0.2, 'Ram', True, 15]"
      ]
     },
     "execution_count": 2,
     "metadata": {},
     "output_type": "execute_result"
    }
   ],
   "source": [
    "list1.append(15)\n",
    "list1"
   ]
  },
  {
   "cell_type": "code",
   "execution_count": 3,
   "id": "67de8ba7",
   "metadata": {},
   "outputs": [
    {
     "name": "stdout",
     "output_type": "stream",
     "text": [
      "[15, 1, 0.2, 'Ram', True, 15]\n"
     ]
    }
   ],
   "source": [
    "list1.insert(0,15)\n",
    "print(list1)"
   ]
  },
  {
   "cell_type": "code",
   "execution_count": 4,
   "id": "512365ae",
   "metadata": {},
   "outputs": [
    {
     "data": {
      "text/plain": [
       "[15, 1, 0.2, 'Ram', True, 15, 1, 34]"
      ]
     },
     "execution_count": 4,
     "metadata": {},
     "output_type": "execute_result"
    }
   ],
   "source": [
    "list1.extend([1,34])\n",
    "list1"
   ]
  },
  {
   "cell_type": "markdown",
   "id": "778a44fa",
   "metadata": {},
   "source": [
    "## Removing the item"
   ]
  },
  {
   "cell_type": "code",
   "execution_count": 5,
   "id": "b4c5dd58",
   "metadata": {},
   "outputs": [
    {
     "data": {
      "text/plain": [
       "[1, 0.2, 'Ram', True, 15, 1, 34]"
      ]
     },
     "execution_count": 5,
     "metadata": {},
     "output_type": "execute_result"
    }
   ],
   "source": [
    "list1.remove(15)\n",
    "list1"
   ]
  },
  {
   "cell_type": "code",
   "execution_count": 7,
   "id": "39639c7c",
   "metadata": {},
   "outputs": [
    {
     "data": {
      "text/plain": [
       "[1, 0.2, 'Ram', 15, 1, 34]"
      ]
     },
     "execution_count": 7,
     "metadata": {},
     "output_type": "execute_result"
    }
   ],
   "source": [
    "list1.pop(3)\n",
    "list1"
   ]
  },
  {
   "cell_type": "code",
   "execution_count": 9,
   "id": "c1306a30",
   "metadata": {},
   "outputs": [
    {
     "data": {
      "text/plain": [
       "[]"
      ]
     },
     "execution_count": 9,
     "metadata": {},
     "output_type": "execute_result"
    }
   ],
   "source": [
    "list1.clear()\n",
    "list1"
   ]
  },
  {
   "cell_type": "markdown",
   "id": "93d2f3e1",
   "metadata": {},
   "source": [
    "## Modifying the list"
   ]
  },
  {
   "cell_type": "code",
   "execution_count": 15,
   "id": "d9e4b451",
   "metadata": {},
   "outputs": [
    {
     "name": "stdout",
     "output_type": "stream",
     "text": [
      "[1, 0.2, 'Ram', True]\n"
     ]
    },
    {
     "data": {
      "text/plain": [
       "[10, 0.2, 'Ram', True]"
      ]
     },
     "execution_count": 15,
     "metadata": {},
     "output_type": "execute_result"
    }
   ],
   "source": [
    "list1=[1,0.2,\"Ram\",True]\n",
    "print(list1)\n",
    "list1[0]=10\n",
    "list1"
   ]
  },
  {
   "cell_type": "markdown",
   "id": "91858354",
   "metadata": {},
   "source": [
    "# Dictionary\n",
    "## Create a dictionary"
   ]
  },
  {
   "cell_type": "code",
   "execution_count": 34,
   "id": "26d798a1",
   "metadata": {},
   "outputs": [
    {
     "data": {
      "text/plain": [
       "{1: 'piyu', 2: 11, 3: 'Science'}"
      ]
     },
     "execution_count": 34,
     "metadata": {},
     "output_type": "execute_result"
    }
   ],
   "source": [
    "dict1={1:\"piyu\",2:11,3:\"Science\"}\n",
    "dict1"
   ]
  },
  {
   "cell_type": "markdown",
   "id": "593f1f2b",
   "metadata": {},
   "source": [
    "## Adding the items"
   ]
  },
  {
   "cell_type": "code",
   "execution_count": 35,
   "id": "80f3dc5c",
   "metadata": {},
   "outputs": [
    {
     "data": {
      "text/plain": [
       "{1: 'piyu', 2: 11, 3: 'Science', 4: 'Hey'}"
      ]
     },
     "execution_count": 35,
     "metadata": {},
     "output_type": "execute_result"
    }
   ],
   "source": [
    "dict1[4]=\"Hey\"\n",
    "dict1"
   ]
  },
  {
   "cell_type": "code",
   "execution_count": 36,
   "id": "d149dcd1",
   "metadata": {},
   "outputs": [
    {
     "data": {
      "text/plain": [
       "{1: 'piyu', 2: 11, 3: 'Science', 4: 'Hey', 5: 123, 6: 'RAM'}"
      ]
     },
     "execution_count": 36,
     "metadata": {},
     "output_type": "execute_result"
    }
   ],
   "source": [
    "dict1.update({5:123,6:\"RAM\"})\n",
    "dict1"
   ]
  },
  {
   "cell_type": "markdown",
   "id": "506c293d",
   "metadata": {},
   "source": [
    "## Removing the items"
   ]
  },
  {
   "cell_type": "code",
   "execution_count": 30,
   "id": "1e4b8d4d",
   "metadata": {},
   "outputs": [
    {
     "data": {
      "text/plain": [
       "{1: 'piyu', 2: 11, 4: 'Hey', 5: 123, 6: 'RAM'}"
      ]
     },
     "execution_count": 30,
     "metadata": {},
     "output_type": "execute_result"
    }
   ],
   "source": [
    "del dict1[3]\n",
    "dict1"
   ]
  },
  {
   "cell_type": "code",
   "execution_count": 31,
   "id": "272f8290",
   "metadata": {},
   "outputs": [
    {
     "data": {
      "text/plain": [
       "{1: 'piyu', 2: 11, 4: 'Hey', 6: 'RAM'}"
      ]
     },
     "execution_count": 31,
     "metadata": {},
     "output_type": "execute_result"
    }
   ],
   "source": [
    "dict1.pop(5)\n",
    "dict1"
   ]
  },
  {
   "cell_type": "code",
   "execution_count": 32,
   "id": "d98b0302",
   "metadata": {},
   "outputs": [
    {
     "data": {
      "text/plain": [
       "{}"
      ]
     },
     "execution_count": 32,
     "metadata": {},
     "output_type": "execute_result"
    }
   ],
   "source": [
    "dict1.clear()\n",
    "dict1"
   ]
  },
  {
   "cell_type": "markdown",
   "id": "f2dc2103",
   "metadata": {},
   "source": [
    "## Modifying the Dictionary"
   ]
  },
  {
   "cell_type": "code",
   "execution_count": 37,
   "id": "2379201a",
   "metadata": {},
   "outputs": [
    {
     "data": {
      "text/plain": [
       "{1: 'piyu', 2: 11, 3: 'How are you?', 4: 'Hey', 5: 123, 6: 'RAM'}"
      ]
     },
     "execution_count": 37,
     "metadata": {},
     "output_type": "execute_result"
    }
   ],
   "source": [
    "dict1[3]=\"How are you?\"\n",
    "dict1"
   ]
  },
  {
   "cell_type": "code",
   "execution_count": 39,
   "id": "2a6f95c2",
   "metadata": {},
   "outputs": [
    {
     "data": {
      "text/plain": [
       "{1: 'piyu', 2: 11, 3: 'How are you?', 5: 123, 6: 'RAM', 7: 'Hey'}"
      ]
     },
     "execution_count": 39,
     "metadata": {},
     "output_type": "execute_result"
    }
   ],
   "source": [
    "dict1[7]=dict1.pop(4)\n",
    "dict1"
   ]
  },
  {
   "cell_type": "markdown",
   "id": "2b4305f9",
   "metadata": {},
   "source": [
    "# Set\n",
    "## Create a set"
   ]
  },
  {
   "cell_type": "code",
   "execution_count": 49,
   "id": "46895a7d",
   "metadata": {},
   "outputs": [
    {
     "data": {
      "text/plain": [
       "{1, 2, 3, 4, 5}"
      ]
     },
     "execution_count": 49,
     "metadata": {},
     "output_type": "execute_result"
    }
   ],
   "source": [
    "set={1,2,3,4,4,5}\n",
    "set"
   ]
  },
  {
   "cell_type": "markdown",
   "id": "9279b7cd",
   "metadata": {},
   "source": [
    "## Adding the item"
   ]
  },
  {
   "cell_type": "code",
   "execution_count": 43,
   "id": "1038c5c6",
   "metadata": {},
   "outputs": [
    {
     "data": {
      "text/plain": [
       "{1, 2, 3, 4, 5, 6}"
      ]
     },
     "execution_count": 43,
     "metadata": {},
     "output_type": "execute_result"
    }
   ],
   "source": [
    "set.add(6)\n",
    "set"
   ]
  },
  {
   "cell_type": "markdown",
   "id": "a49452a0",
   "metadata": {},
   "source": [
    "## Removing the item"
   ]
  },
  {
   "cell_type": "code",
   "execution_count": 46,
   "id": "0deff3c2",
   "metadata": {},
   "outputs": [
    {
     "data": {
      "text/plain": [
       "{1, 2, 3, 4, 5}"
      ]
     },
     "execution_count": 46,
     "metadata": {},
     "output_type": "execute_result"
    }
   ],
   "source": [
    "set.discard(6)\n",
    "set"
   ]
  },
  {
   "cell_type": "code",
   "execution_count": 47,
   "id": "9e5a896d",
   "metadata": {},
   "outputs": [
    {
     "data": {
      "text/plain": [
       "{1, 3, 4, 5}"
      ]
     },
     "execution_count": 47,
     "metadata": {},
     "output_type": "execute_result"
    }
   ],
   "source": [
    "set.remove(2)\n",
    "set"
   ]
  },
  {
   "cell_type": "code",
   "execution_count": 48,
   "id": "a4a37de7",
   "metadata": {},
   "outputs": [
    {
     "data": {
      "text/plain": [
       "set()"
      ]
     },
     "execution_count": 48,
     "metadata": {},
     "output_type": "execute_result"
    }
   ],
   "source": [
    "set.clear()\n",
    "set"
   ]
  },
  {
   "cell_type": "markdown",
   "id": "a573c277",
   "metadata": {},
   "source": [
    "## Modifying the item"
   ]
  },
  {
   "cell_type": "code",
   "execution_count": 50,
   "id": "d021fe34",
   "metadata": {},
   "outputs": [
    {
     "data": {
      "text/plain": [
       "{1, 2, 3, 4, 5, 'A', 'B', 'C'}"
      ]
     },
     "execution_count": 50,
     "metadata": {},
     "output_type": "execute_result"
    }
   ],
   "source": [
    "set.update(\"A\",\"B\",\"C\")\n",
    "set"
   ]
  },
  {
   "cell_type": "markdown",
   "id": "3bd91c1e",
   "metadata": {},
   "source": [
    "### Set union"
   ]
  },
  {
   "cell_type": "code",
   "execution_count": 51,
   "id": "f4022768",
   "metadata": {},
   "outputs": [
    {
     "data": {
      "text/plain": [
       "{1, 2, 3, 4}"
      ]
     },
     "execution_count": 51,
     "metadata": {},
     "output_type": "execute_result"
    }
   ],
   "source": [
    "sA={1,2,3}\n",
    "sB={2,3,4}\n",
    "sA.union(sB)"
   ]
  },
  {
   "cell_type": "markdown",
   "id": "8d3f76ca",
   "metadata": {},
   "source": [
    "### Set Intersection"
   ]
  },
  {
   "cell_type": "code",
   "execution_count": 52,
   "id": "73b0dcdc",
   "metadata": {},
   "outputs": [
    {
     "data": {
      "text/plain": [
       "{2, 3}"
      ]
     },
     "execution_count": 52,
     "metadata": {},
     "output_type": "execute_result"
    }
   ],
   "source": [
    "s1={1,2,3}\n",
    "s2={2,3,4}\n",
    "s1.intersection(s2)"
   ]
  }
 ],
 "metadata": {
  "kernelspec": {
   "display_name": "Python 3 (ipykernel)",
   "language": "python",
   "name": "python3"
  },
  "language_info": {
   "codemirror_mode": {
    "name": "ipython",
    "version": 3
   },
   "file_extension": ".py",
   "mimetype": "text/x-python",
   "name": "python",
   "nbconvert_exporter": "python",
   "pygments_lexer": "ipython3",
   "version": "3.9.12"
  }
 },
 "nbformat": 4,
 "nbformat_minor": 5
}
